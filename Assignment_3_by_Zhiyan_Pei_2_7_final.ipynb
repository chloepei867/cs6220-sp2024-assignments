{
  "nbformat": 4,
  "nbformat_minor": 0,
  "metadata": {
    "colab": {
      "provenance": []
    },
    "kernelspec": {
      "name": "python3",
      "display_name": "Python 3"
    },
    "language_info": {
      "name": "python"
    }
  },
  "cells": [
    {
      "cell_type": "code",
      "source": [
        "#@title Data path for file.\n",
        "datapath=\"/content/drive/MyDrive/soc-LiveJournal1Adj.txt\" #@param"
      ],
      "metadata": {
        "id": "slBarkDhn3eW"
      },
      "execution_count": null,
      "outputs": []
    },
    {
      "cell_type": "code",
      "source": [
        "#@title Install all the appropriate packages\n",
        "\n",
        "!pip install pyspark\n",
        "!pip install -U -q PyDrive\n",
        "!apt install openjdk-8-jdk-headless -qq"
      ],
      "metadata": {
        "id": "AeN5P_LrzIQS"
      },
      "execution_count": null,
      "outputs": []
    },
    {
      "cell_type": "code",
      "source": [
        "#@title Import and create Spark Context\n",
        "\n",
        "# Let's import the libraries we will need\n",
        "import itertools\n",
        "\n",
        "import pyspark\n",
        "from pyspark.sql import *\n",
        "from pyspark.sql.functions import *\n",
        "from pyspark import SparkContext, SparkConf\n",
        "import os\n",
        "os.environ[\"JAVA_HOME\"] = \"/usr/lib/jvm/java-8-openjdk-amd64\"\n",
        "\n",
        "# create the session\n",
        "conf = SparkConf().set(\"spark.ui.port\", \"4050\")\n",
        "\n",
        "# create the context\n",
        "sc = pyspark.SparkContext(conf=conf)\n",
        "spark = SparkSession.builder.getOrCreate()"
      ],
      "metadata": {
        "id": "Z01zL_vXyaFf"
      },
      "execution_count": null,
      "outputs": []
    },
    {
      "cell_type": "code",
      "source": [
        "# mount drive\n",
        "from google.colab import drive\n",
        "drive.mount('/content/drive')"
      ],
      "metadata": {
        "id": "JEgvF22pvNVN",
        "colab": {
          "base_uri": "https://localhost:8080/"
        },
        "outputId": "a592895c-477b-4d24-e74d-a465e62e7dbc"
      },
      "execution_count": null,
      "outputs": [
        {
          "output_type": "stream",
          "name": "stdout",
          "text": [
            "Mounted at /content/drive\n"
          ]
        }
      ]
    },
    {
      "cell_type": "code",
      "source": [
        "# Read the data in\n",
        "lines = sc.textFile(datapath, 1)\n",
        "lines = lines.map(lambda line: line.split())"
      ],
      "metadata": {
        "id": "BauEz8ySKg-e"
      },
      "execution_count": null,
      "outputs": []
    },
    {
      "cell_type": "markdown",
      "source": [
        "## Functions Used"
      ],
      "metadata": {
        "id": "SQ_A4v8svuHJ"
      }
    },
    {
      "cell_type": "markdown",
      "source": [
        "## 1. function: fmt\n",
        "This function is for creating pairs of potential friends and pairs of existing friends.\n",
        "ex: x = ['1', ['2','4','5']] <br>\n",
        "we can create pairs of potential friends:<br>\n",
        "(('2','4'), 1), (('2','5'), 1), (('4','5'), 1)<br>\n",
        "(('4','2'), 1), (('5','2'), 1), (('5','4'), 1)<br>\n",
        "we can also create pairs of existing friends: <br>\n",
        "(('1','2'), -inf), (('1','4'), -inf), (('1','5'), -inf)"
      ],
      "metadata": {
        "id": "qpXyr-o2vz7X"
      }
    },
    {
      "cell_type": "code",
      "source": [
        "def fmt(x):\n",
        "  y = []\n",
        "  friends = x[1]\n",
        "  # if len(friends) > 0:\n",
        "  for i in range(0, len(friends)-1):\n",
        "    for j in range(i+1, len(friends)):\n",
        "      temp1 = ((friends[i], friends[j]), 1)\n",
        "      temp2 = ((friends[j], friends[i]), 1)\n",
        "      y.append(temp1)\n",
        "      y.append(temp2)\n",
        "  for f in friends:\n",
        "    temp = ((x[0], f), float('-inf'))\n",
        "    y.append(temp)\n",
        "  return y\n",
        "\n"
      ],
      "metadata": {
        "id": "Q4DQY5E7B5o5"
      },
      "execution_count": null,
      "outputs": []
    },
    {
      "cell_type": "markdown",
      "source": [
        "## 2. function : generate_recommendation_list <br>\n",
        "if the number of recommendations is larger than 10, then we only retrieve the first ten recommendations.\n",
        "Also, store the recommendations as comma separated list.<br>\n",
        "ex: ['1', '2,3,4'] <br>\n",
        "This means for user 1, the recommendation is 2, 3 and 4."
      ],
      "metadata": {
        "id": "E0ewaTurxtM5"
      }
    },
    {
      "cell_type": "code",
      "source": [
        "def generate_recommendation_list(x):\n",
        "  user_id = x[0]\n",
        "  recommended_friends = []\n",
        "  for i in x[1]:\n",
        "    recommended_friends.append(i[0])\n",
        "  if len(recommended_friends) > 10:\n",
        "    recommended_friends = recommended_friends[0: 10]\n",
        "  return [user_id, ','.join(recommended_friends)]"
      ],
      "metadata": {
        "id": "plxkQmJuk4H1"
      },
      "execution_count": null,
      "outputs": []
    },
    {
      "cell_type": "markdown",
      "source": [
        "##3. Function: sort_value\n",
        "ex: x = ('1', [('2', 3), ('4', 8), ('3', 3)])<br>\n",
        "This user 1 has 3 mutual friends with user 2, 8 with user 4 and 3 with user 3. <br>\n",
        "We sort x[1], which is a list in descending order of the number of mutual friends, if the number of mutual friends are the same, sort by the user id in numerically ascending order."
      ],
      "metadata": {
        "id": "VZAmYtY1zxSP"
      }
    },
    {
      "cell_type": "code",
      "source": [
        "def sort_value(x):\n",
        "  sorted_list = sorted(x[1], key = lambda x: (-x[1], int(x[0])))\n",
        "  return (x[0], sorted_list)"
      ],
      "metadata": {
        "id": "d3fq1Nz1k9TE"
      },
      "execution_count": null,
      "outputs": []
    },
    {
      "cell_type": "markdown",
      "source": [
        "## 4. Final output"
      ],
      "metadata": {
        "id": "9NKKkH4F1SW6"
      }
    },
    {
      "cell_type": "code",
      "source": [
        "output = lines.map(lambda x: (x[0], x[1].split(',')) if len(x) > 1 else (x[0], [])).map(lambda x: fmt(x)).flatMap(lambda x: x).reduceByKey(lambda x, y: x+y).filter(lambda x: x[1] > 0).map(lambda x: (x[0][0], [(x[0][1], x[1])])).reduceByKey(lambda x,y: x+y).map(lambda x: sort_value(x)).map(lambda x: generate_recommendation_list(x)).collect()"
      ],
      "metadata": {
        "id": "LX6ql9J7Uc3C"
      },
      "execution_count": 19,
      "outputs": []
    },
    {
      "cell_type": "markdown",
      "source": [
        "## 5. Sort the ouput according to the user id."
      ],
      "metadata": {
        "id": "hs94DDKO1iTB"
      }
    },
    {
      "cell_type": "code",
      "source": [
        "output = sorted(output, key=lambda x: int(x[0]))"
      ],
      "metadata": {
        "id": "2ErSSBrePkUn"
      },
      "execution_count": null,
      "outputs": []
    },
    {
      "cell_type": "markdown",
      "source": [
        "## 6. Save the output into \"output.txt\""
      ],
      "metadata": {
        "id": "hAmYjam31kv-"
      }
    },
    {
      "cell_type": "code",
      "source": [
        "with open(\"/content/drive/MyDrive/output.txt\", 'w') as f:\n",
        "  for line in output:\n",
        "    f.write(line[0])\n",
        "    f.write('\\t')\n",
        "    f.write(line[1])\n",
        "    f.write('\\n')"
      ],
      "metadata": {
        "id": "niZ9P8TqQmP1"
      },
      "execution_count": null,
      "outputs": []
    }
  ]
}