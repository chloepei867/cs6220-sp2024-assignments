{
  "cells": [
    {
      "cell_type": "markdown",
      "metadata": {
        "id": "view-in-github",
        "colab_type": "text"
      },
      "source": [
        "<a href=\"https://colab.research.google.com/github/chloepei867/cs6220-sp2024-assignments/blob/main/%E2%80%9CAssignment_1_Zhiyan_Pei.ipynb\" target=\"_parent\"><img src=\"https://colab.research.google.com/assets/colab-badge.svg\" alt=\"Open In Colab\"/></a>"
      ]
    },
    {
      "cell_type": "code",
      "execution_count": 1,
      "metadata": {
        "id": "bdM6NSRawQsw",
        "colab": {
          "base_uri": "https://localhost:8080/"
        },
        "outputId": "c3eb6d38-2644-4fa2-9386-fa477e919e7c"
      },
      "outputs": [
        {
          "output_type": "stream",
          "name": "stdout",
          "text": [
            "Data in combined_data_1.txt looks like this: \n",
            "\n",
            "1:\n",
            "1488844,3,2005-09-06\n",
            "822109,5,2005-05-13\n",
            "885013,4,2005-10-19\n",
            "30878,4,2005-12-26\n",
            "\n",
            "\n",
            "Data in movie_titles.csv looks like this: \n",
            "\n",
            "1,2003,Dinosaur Planet\n",
            "2,2004,Isle of Man TT 2004 Review\n",
            "3,1997,Character\n",
            "4,1994,Paula Abdul's Get Up & Dance\n",
            "5,2004,The Rise and Fall of ECW\n",
            "\n",
            "\n",
            "Data in basket_data.csv looks like this: \n",
            "\n",
            "ketchup, butter, diapers\n",
            "bread, diapers, ketchup\n",
            "butter, bread, ketchup\n",
            "diapers, butter\n",
            "ketchup, butter, diapers, beer\n"
          ]
        }
      ],
      "source": [
        "#@title Download the data from website\n",
        "!wget -nc https://course.ccs.neu.edu/cs6220/fall2023/homework-1/netflix-data/movie_titles.csv\n",
        "!wget -nc https://course.ccs.neu.edu/cs6220/fall2023/homework-1/netflix-data/qualifying.txt\n",
        "!wget -nc https://course.ccs.neu.edu/cs6220/fall2023/homework-1/netflix-data/combined_data_1.txt\n",
        "!wget -nc https://course.ccs.neu.edu/cs6220/fall2023/homework-1/netflix-data/combined_data_2.txt\n",
        "!wget -nc https://course.ccs.neu.edu/cs6220/fall2023/homework-1/netflix-data/combined_data_3.txt\n",
        "!wget -nc https://course.ccs.neu.edu/cs6220/fall2023/homework-1/netflix-data/combined_data_4.txt\n",
        "!wget -nc https://course.ccs.neu.edu/cs6220/fall2023/homework-1/basket_data.csv\n",
        "\n",
        "\n",
        "from IPython.display import clear_output\n",
        "clear_output()\n",
        "\n",
        "print(\"Data in combined_data_1.txt looks like this: \\n\")\n",
        "!head -5 combined_data_1.txt\n",
        "\n",
        "print(\"\\n\\nData in movie_titles.csv looks like this: \\n\")\n",
        "!head -5 movie_titles.csv\n",
        "\n",
        "print(\"\\n\\nData in basket_data.csv looks like this: \\n\")\n",
        "!head -5 basket_data.csv\n"
      ]
    },
    {
      "cell_type": "code",
      "source": [
        "f = open(\"movie_titles.csv\", encoding =\"cp1252\")\n",
        "data_lines = open(\"combined_data_1.txt\", \"r\").readlines()"
      ],
      "metadata": {
        "id": "yljOq5Mod1Q2"
      },
      "execution_count": 35,
      "outputs": []
    },
    {
      "cell_type": "code",
      "source": [
        "# 1. Function: cardinality_items(filename)\n",
        "import csv\n",
        "def cardinality_items( filename ):\n",
        "  unique_item_sets = set()\n",
        "  with open(filename, \"r\") as csv_file:\n",
        "    csv_reader = csv.reader(csv_file);\n",
        "    for line in csv_reader:\n",
        "      for item in line:\n",
        "        unique_item_sets.add(item)\n",
        "  return len(unique_item_sets)\n"
      ],
      "metadata": {
        "id": "5q903aUO2Mt3"
      },
      "execution_count": 2,
      "outputs": []
    },
    {
      "cell_type": "code",
      "source": [
        "#The cardinality of \"basket_data.csv\" is 27.\n",
        "cardinality_items(\"basket_data.csv\")"
      ],
      "metadata": {
        "id": "TJt0siQgypOE",
        "outputId": "f98f4720-1293-4dad-9f16-6c7c460cb816",
        "colab": {
          "base_uri": "https://localhost:8080/"
        }
      },
      "execution_count": 4,
      "outputs": [
        {
          "output_type": "execute_result",
          "data": {
            "text/plain": [
              "27"
            ]
          },
          "metadata": {},
          "execution_count": 4
        }
      ]
    },
    {
      "cell_type": "code",
      "source": [
        "# 2. Function: all_itemsets()\n",
        "def all_itemsets(items, k):\n",
        "  res = []\n",
        "  def dfs(items, k, start_index, cur_set):\n",
        "    if k == 0:\n",
        "      res.append(cur_set[:])\n",
        "      return\n",
        "    if start_index >= len(items):\n",
        "      return\n",
        "    for i in range(start_index, len(items)):\n",
        "      cur_set.append(items[i])\n",
        "      dfs(items, k-1, i+1, cur_set)\n",
        "      cur_set.pop()\n",
        "  dfs(items, k, 0, [])\n",
        "  return res\n"
      ],
      "metadata": {
        "id": "z91mav1p5jf8"
      },
      "execution_count": 5,
      "outputs": []
    },
    {
      "cell_type": "code",
      "source": [
        "all_itemsets([\"ham\", \"cheese\", \"bread\", \"yoghurt\", \"beer\"], 2)"
      ],
      "metadata": {
        "id": "AVo05C8sBVax",
        "outputId": "bfe60de3-048a-43a7-c591-391f1d62edc2",
        "colab": {
          "base_uri": "https://localhost:8080/"
        }
      },
      "execution_count": 6,
      "outputs": [
        {
          "output_type": "execute_result",
          "data": {
            "text/plain": [
              "[['ham', 'cheese'],\n",
              " ['ham', 'bread'],\n",
              " ['ham', 'yoghurt'],\n",
              " ['ham', 'beer'],\n",
              " ['cheese', 'bread'],\n",
              " ['cheese', 'yoghurt'],\n",
              " ['cheese', 'beer'],\n",
              " ['bread', 'yoghurt'],\n",
              " ['bread', 'beer'],\n",
              " ['yoghurt', 'beer']]"
            ]
          },
          "metadata": {},
          "execution_count": 6
        }
      ]
    },
    {
      "cell_type": "markdown",
      "source": [
        "Examining Our First Dataset"
      ],
      "metadata": {
        "id": "k6uUqSGBJUjO"
      }
    },
    {
      "cell_type": "code",
      "source": [
        "# 3-(a): Total number of records of movie ratings: 100,480,507\n",
        "def count_rating_records(filename):\n",
        "  data_lines = open(filename, \"r\").readlines()\n",
        "  return sum(1 for line in data_lines  if not line.strip().endswith(':'))"
      ],
      "metadata": {
        "id": "0JSTVzCnI9oi"
      },
      "execution_count": 9,
      "outputs": []
    },
    {
      "cell_type": "code",
      "source": [
        "count_rating_records(\"combined_data_1.txt\") + count_rating_records(\"combined_data_2.txt\") + count_rating_records(\"combined_data_3.txt\") + count_rating_records(\"combined_data_4.txt\")"
      ],
      "metadata": {
        "id": "M3m3lfJMJeJZ",
        "outputId": "677a44f4-44f2-48b5-8a80-f0214c8092be",
        "colab": {
          "base_uri": "https://localhost:8080/"
        }
      },
      "execution_count": 10,
      "outputs": [
        {
          "output_type": "execute_result",
          "data": {
            "text/plain": [
              "100480507"
            ]
          },
          "metadata": {},
          "execution_count": 10
        }
      ]
    },
    {
      "cell_type": "code",
      "source": [
        "# 3-(b): Total number of unique users in the entire dataset: 480,189\n",
        "def count_unique_users():\n",
        "  unique_user_sets = set()\n",
        "  for i in range(1, 5):\n",
        "    filename = \"combined_data_\" + str(i) + \".txt\"\n",
        "    data_lines = open(filename, \"r\").readlines()\n",
        "    for line in data_lines:\n",
        "      line = line.strip()\n",
        "      if not line.endswith(':'):\n",
        "        data = line.split(',')\n",
        "        user_id = data[0].strip()\n",
        "        unique_user_sets.add(user_id)\n",
        "  return len(unique_user_sets)\n",
        "count_unique_users()"
      ],
      "metadata": {
        "id": "s7IgMZ3dMEqD",
        "colab": {
          "base_uri": "https://localhost:8080/"
        },
        "outputId": "2c30e396-eb6c-4754-9087-d6f6f2858d04"
      },
      "execution_count": 12,
      "outputs": [
        {
          "output_type": "execute_result",
          "data": {
            "text/plain": [
              "480189"
            ]
          },
          "metadata": {},
          "execution_count": 12
        }
      ]
    },
    {
      "cell_type": "code",
      "source": [
        "# 3-(c): the range of years that this data is valid over 1999 to 2005.\n",
        "def calculate_year_range():\n",
        "  min_year = -1\n",
        "  max_year = -1\n",
        "  for i in range(1, 5):\n",
        "    filename = \"combined_data_\" + str(i) + \".txt\"\n",
        "    with open(filename, \"r\") as file:\n",
        "      for line in file:\n",
        "        if line.find(':') == -1:\n",
        "          line = line.split(\",\")\n",
        "          if len(line) >= 3:\n",
        "            date = line[2]\n",
        "            year = date.split(\"-\")[0]\n",
        "            if min_year == -1 or int(min_year) > int(year):\n",
        "              min_year = year\n",
        "            if max_year == -1 or int(max_year) < int(year):\n",
        "              max_year = year\n",
        "  list = [min_year, max_year]\n",
        "  return list\n"
      ],
      "metadata": {
        "id": "bY1hOfzlXUTs"
      },
      "execution_count": 26,
      "outputs": []
    },
    {
      "cell_type": "code",
      "source": [
        "calculate_year_range()"
      ],
      "metadata": {
        "colab": {
          "base_uri": "https://localhost:8080/"
        },
        "id": "MAw5YncfXGbL",
        "outputId": "f12b414a-c928-4c0f-b00e-e361f44805f4"
      },
      "execution_count": 27,
      "outputs": [
        {
          "output_type": "execute_result",
          "data": {
            "text/plain": [
              "['1999', '2005']"
            ]
          },
          "metadata": {},
          "execution_count": 27
        }
      ]
    },
    {
      "cell_type": "code",
      "source": [
        "# 4-(a) count the distinct names of the movies\n",
        "# Answer: 17026 movies with unique names.\n",
        "def count_movies():\n",
        "  unique_movie_title_sets = set()\n",
        "  with open(\"movie_titles.csv\", encoding =\"cp1252\") as file:\n",
        "    csv_reader = csv.reader(file)\n",
        "    for line in csv_reader:\n",
        "      if len(line) == 3:\n",
        "        unique_movie_title_sets.add(line[2])\n",
        "  return len(unique_movie_title_sets)\n",
        "count_movies()"
      ],
      "metadata": {
        "colab": {
          "base_uri": "https://localhost:8080/"
        },
        "id": "gen0AtbiePsp",
        "outputId": "789be98d-8525-4206-c359-c9ba94c11782"
      },
      "execution_count": 30,
      "outputs": [
        {
          "output_type": "execute_result",
          "data": {
            "text/plain": [
              "17026"
            ]
          },
          "metadata": {},
          "execution_count": 30
        }
      ]
    },
    {
      "cell_type": "code",
      "source": [
        "#4-(b)\n"
      ],
      "metadata": {
        "id": "HI-NDm8CjlkO"
      },
      "execution_count": null,
      "outputs": []
    },
    {
      "cell_type": "code",
      "source": [
        "#5-(a): 605 users rated exactly 200 movies.\n",
        "# the lowest user id is 6.\n",
        "map = {}\n",
        "lowest_user_id = \"2649429\"\n",
        "for i in range(1, 5):\n",
        "  filename = \"combined_data_\" + str(i) + \".txt\"\n",
        "  data_lines = open(filename, \"r\").readlines()\n",
        "  for line in data_lines:\n",
        "    line = line.strip()\n",
        "    if not line.endswith(':'):\n",
        "      data = line.split(',')\n",
        "      user_id = data[0].strip()\n",
        "      if int(lowest_user_id) > int(user_id):\n",
        "        lowest_user_id = user_id\n",
        "      map[user_id] = map.get(user_id, 0) + 1\n",
        "count_users = 0\n",
        "for k, v in map.items():\n",
        "  if v == 200:\n",
        "    count_users += 1\n",
        "print(count_users)\n",
        "print(len(map))\n",
        "print(lowest_user_id)"
      ],
      "metadata": {
        "colab": {
          "base_uri": "https://localhost:8080/"
        },
        "id": "MynmVITukKlN",
        "outputId": "89a3028c-3881-4953-b62c-b14108eba492"
      },
      "execution_count": 35,
      "outputs": [
        {
          "output_type": "stream",
          "name": "stdout",
          "text": [
            "605\n",
            "480189\n",
            "6\n"
          ]
        }
      ]
    },
    {
      "cell_type": "code",
      "source": [
        "# 5-(b)\n",
        "favorite_movies_id = set()\n",
        "for i in range(1, 5):\n",
        "  filename = \"combined_data_\" + str(i) + \".txt\"\n",
        "  data_lines = open(filename, \"r\").readlines()\n",
        "  current_movie_id = None\n",
        "  for line in data_lines:\n",
        "    line = line.strip()\n",
        "    if line.endswith(':'):\n",
        "      current_movie_id = line[:-1].strip()\n",
        "    elif line:\n",
        "      data = line.split(',')\n",
        "      if len(data) >= 3:\n",
        "        user_id = data[0].strip()\n",
        "        rating = data[1].strip()\n",
        "        if user_id == \"6\" and rating == \"5\":\n",
        "          favorite_movies_id.add(current_movie_id)\n",
        "\n",
        "favorite_movies_title = set()\n",
        "with open(\"movie_titles.csv\", encoding =\"cp1252\") as file:\n",
        "    csv_reader = csv.reader(file)\n",
        "    for line in csv_reader:\n",
        "      if len(line) == 3:\n",
        "        movie_id = line[0]\n",
        "        movie_title = line[2]\n",
        "        if movie_id in favorite_movies_id:\n",
        "          favorite_movies_title.add(movie_title)\n",
        "print(favorite_movies_title)\n"
      ],
      "metadata": {
        "colab": {
          "base_uri": "https://localhost:8080/"
        },
        "id": "2pDfL3WepjyA",
        "outputId": "1bb81b14-c433-4413-88af-b5a5f1091ff1"
      },
      "execution_count": 36,
      "outputs": [
        {
          "output_type": "stream",
          "name": "stdout",
          "text": [
            "{'Harry Potter and the Chamber of Secrets', 'Eddie Izzard: Dress to Kill', 'Gangs of New York', \"Harry Potter and the Sorcerer's Stone\", 'High Plains Drifter', 'Three Musketeers', 'Harry Potter and the Prisoner of Azkaban', 'Signs', 'Kill Bill: Vol. 2', '54', \"All the President's Men\", 'Lord of the Rings: The Return of the King', 'Shrek (Full-screen)', 'Fleetwood Mac: The Dance', 'GoodFellas: Special Edition', 'Lord of the Rings: The Fellowship of the Ring', 'Pale Rider', 'Platoon', 'Ray', 'Star Wars: Episode VI: Return of the Jedi', 'Star Wars: Episode I: The Phantom Menace', 'Lord of the Rings: The Return of the King: Extended Edition', 'Gladiator', 'Mister Roberts', 'Apocalypse Now', 'Lord of the Rings: The Two Towers: Extended Edition', 'The Lord of the Rings: The Fellowship of the Ring: Extended Edition', 'Apollo 13', 'Independence Day', 'Men in Black', 'Remember the Titans', 'Snatch', \"In Harm's Way\", 'The Incredibles', 'Band of Brothers', 'Pearl Harbor', 'The Doors', 'American Pie', 'The Bourne Supremacy', 'Lord of the Rings: The Two Towers', '12 Monkeys', 'Star Wars: Episode IV: A New Hope', 'Reservoir Dogs', 'Memphis Belle', 'The Bourne Identity', 'Pulp Fiction', 'The Godfather', 'Braveheart', 'Gandhi', 'A River Runs Through It', 'The Hunt for Red October', 'Robin Williams: Live on Broadway', 'The Fifth Element', 'Kill Bill: Vol. 1'}\n"
          ]
        }
      ]
    }
  ],
  "metadata": {
    "colab": {
      "provenance": [],
      "include_colab_link": true
    },
    "kernelspec": {
      "display_name": "Python 3",
      "name": "python3"
    },
    "language_info": {
      "name": "python"
    }
  },
  "nbformat": 4,
  "nbformat_minor": 0
}